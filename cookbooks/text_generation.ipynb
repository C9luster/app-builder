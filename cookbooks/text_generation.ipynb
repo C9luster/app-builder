{
 "cells": [
  {
   "attachments": {},
   "cell_type": "markdown",
   "metadata": {},
   "source": [
    "# 文本生成\n",
    "\n",
    "## 样例说明\n",
    "本文展示了如何使用appbuilder内置组件以及如何快速构建全新的文本生成组件。以下是一个在营销场景下生成各种文本内容的样例。\n",
    "\n",
    "## 概览\n",
    "具体地，本样例按照以下流程进行文本生成：\n",
    "1. 使用**空模板**构建一个全新的文本生成组件：商品信息生成组件。\n",
    "2. 输入一个商品，使用新构建的商品信息生成组件生成该商品的商品信息。\n",
    "3. 基于生成的商品信息，使用内置的**问答对挖掘**组件生成问答对。生成的问答对可用于客服等。\n",
    "4. 基于生成的商品信息，使用内置的**风格写作**组件为该商品生成一份【小红书】文案。\n",
    "5. 使用内置的**标签抽取**组件对生成的文案进行标签抽取。抽取出的标签可用于检索文案。\n",
    "\n",
    "以下我们会演示如何实现我们自己的定制化能力。"
   ]
  },
  {
   "attachments": {},
   "cell_type": "markdown",
   "metadata": {},
   "source": [
    "## 流程演示\n",
    "### Step 0: 安装Python SDK\n",
    "我们的appbuilder支持使用pip安装："
   ]
  },
  {
   "cell_type": "code",
   "execution_count": null,
   "metadata": {
    "vscode": {
     "languageId": "shellscript"
    }
   },
   "outputs": [],
   "source": [
    "pip install appbuilder"
   ]
  },
  {
   "attachments": {},
   "cell_type": "markdown",
   "metadata": {},
   "source": [
    "代码中需要配置用户的`APPBUILDER_TOKEN`和`GATEWAY_URL`。"
   ]
  },
  {
   "cell_type": "code",
   "execution_count": 11,
   "metadata": {},
   "outputs": [],
   "source": [
    "import os\n",
    "\n",
    "# 设置环境变量\n",
    "os.environ['APPBUILDER_TOKEN'] = '...'\n",
    "os.environ['GATEWAY_URL'] = '...'"
   ]
  },
  {
   "attachments": {},
   "cell_type": "markdown",
   "metadata": {},
   "source": [
    "安装成功后，我们就可以搭建我们自己的能力了。"
   ]
  },
  {
   "attachments": {},
   "cell_type": "markdown",
   "metadata": {},
   "source": [
    "### Step 1: 商品信息生成\n",
    "基于appbuilder提供的**空模板**，用户可以自定义文本生成组件以解决多样化的需求。这里我们构建一个**商品信息生成**组件以生成商品信息："
   ]
  },
  {
   "cell_type": "code",
   "execution_count": null,
   "metadata": {},
   "outputs": [],
   "source": [
    "from appbuilder import Message, Playground\n",
    "\n",
    "# 输入到大模型中的prompt的模板\n",
    "prompt_template = \\\n",
    "'''输入商品名，我需要你为我生成该商品的商品信息。\n",
    "\n",
    "要求：\n",
    "- 直接输出商品信息，不需要引导语。\n",
    "\n",
    "商品名：{product_name}\n",
    "商品信息：\n",
    "'''\n",
    "# 创建商品信息生成组件\n",
    "product_information_generation = Playground(prompt_template=prompt_template, model_name='ernie-bot-4')\n",
    "\n",
    "# 获取商品信息\n",
    "# 填充prompt_template参数的参数映射表，需要与prompt_template对应\n",
    "prompt_template_kwargs = {\n",
    "    # 'product_name': 'IPhone 14 Pro'\n",
    "    'product_name': '特斯拉Model Y'\n",
    "}\n",
    "response = product_information_generation(Message(prompt_template_kwargs), stream=False, temperature=0.5)\n",
    "product_information = response.content\n",
    "print(f'商品信息：\\n{product_information}')"
   ]
  },
  {
   "attachments": {},
   "cell_type": "markdown",
   "metadata": {},
   "source": [
    "输出结果：\n",
    "```\n",
    "商品信息：\n",
    "车型：特斯拉Model Y\n",
    "价格：约29-40万人民币\n",
    "尺寸：中型SUV\n",
    "续航里程：NEDC工况下可达594公里\n",
    "加速性能：0-100km/h加速时间仅为3.7秒\n",
    "充电时间：超级充电站30分钟可充80%电量\n",
    "驱动方式：后置后驱或双电机四驱\n",
    "座位数：5座或7座可选\n",
    "颜色：多种颜色可选\n",
    "特点：\n",
    "- 时尚动感的外观设计\n",
    "- 宽敞舒适的内部空间\n",
    "- 强大的性能和续航能力\n",
    "- 丰富的智能科技配置\n",
    "- 特斯拉独有的自动驾驶技术\n",
    "\n",
    "特斯拉Model Y是一款中型SUV，拥有时尚动感的外观设计和宽敞舒适的内部空间。它搭载了强大的电动机和电池组，能够提供出色的性能和续航能力。此外，Model Y还配备了丰富的智能科技配置和特斯拉独有的自动驾驶技术，为用户带来更加便捷、安全和智能的驾驶体验。\n",
    "```"
   ]
  },
  {
   "attachments": {},
   "cell_type": "markdown",
   "metadata": {},
   "source": [
    "### Step 2: 问答对生成\n",
    "基于Step 1生成的商品信息我们生成一些问答对，这里我们使用内置的**问答对生成**组件。"
   ]
  },
  {
   "cell_type": "code",
   "execution_count": null,
   "metadata": {},
   "outputs": [],
   "source": [
    "from appbuilder import QAPairMining\n",
    "\n",
    "# 初始化问答对生成组件\n",
    "qa_pair_mining = QAPairMining(model_name='ernie-bot-apaas')\n",
    "\n",
    "# 获取问答对\n",
    "response = qa_pair_mining(Message(product_information), stream=False, temperature=1e-10)\n",
    "qa_pairs = response.content\n",
    "print(f'问答对：\\n{qa_pairs}')"
   ]
  },
  {
   "cell_type": "markdown",
   "metadata": {},
   "source": [
    "输出结果：\n",
    "```\n",
    "问答对：\n",
    "1. 特斯拉Model Y的车型是什么？\n",
    "2. 特斯拉Model Y的价格大约是多少？\n",
    "3. 特斯拉Model Y的尺寸是多少？\n",
    "4. 特斯拉Model Y的续航里程可以达到多少？\n",
    "5. 特斯拉Model Y的0-100km/h加速时间是多少？\n",
    "6. 特斯拉Model Y的充电时间是多少？\n",
    "7. 特斯拉Model Y的驱动方式是什么？\n",
    "8. 特斯拉Model Y的座位数是多少？\n",
    "9. 特斯拉Model Y有哪些颜色可选？\n",
    "10. 特斯拉Model Y的特点有哪些？\n",
    "```"
   ]
  },
  {
   "attachments": {},
   "cell_type": "markdown",
   "metadata": {},
   "source": [
    "### Step 3: 营销文案生成\n",
    "基于Step 1生成的商品信息生成【小红书】文案，这里我们使用内置的**风格写作**组件。"
   ]
  },
  {
   "cell_type": "code",
   "execution_count": null,
   "metadata": {},
   "outputs": [],
   "source": [
    "from appbuilder import StyleWriting\n",
    "\n",
    "# 构造query\n",
    "query = \\\n",
    "f'''请你基于以下商品信息生成文案：\n",
    "{product_information}\n",
    "'''\n",
    "\n",
    "# 初始化风格写作组件\n",
    "style_writing = StyleWriting(model_name='ernie-bot-4')\n",
    "\n",
    "# 获取小红书文案\n",
    "response = style_writing(Message(query), style_query='小红书', length=300)\n",
    "copywriting = response.content\n",
    "print(f'文案：\\n{copywriting}')"
   ]
  },
  {
   "attachments": {},
   "cell_type": "markdown",
   "metadata": {},
   "source": [
    "输出结果：\n",
    "```\n",
    "文案：\n",
    "【特斯拉Model Y，中型SUV的新标杆！】\n",
    "\n",
    "🚀 特斯拉Model Y，中型SUV界的翘楚！时尚动感的外观、宽敞舒适的内部空间，让你一见倾心！💓\n",
    "\n",
    "🚀 强大的性能和续航能力，让你畅享驾驶乐趣！0-100km/h加速仅需3.7秒，NEDC工况下续航里程可达594公里！🔋\n",
    "\n",
    "🚀 充电也无忧！特斯拉超级充电站30分钟可充80%电量，让你的时间更加宝贵！🔌\n",
    "\n",
    "🚀 后置后驱或双电机四驱，5座或7座可选，满足你的各种需求！多种颜色可选，让你的Model Y更加个性十足！🌈\n",
    "\n",
    "🚀 丰富的智能科技配置和特斯拉独有的自动驾驶技术，让驾驶更加便捷、安全和智能！💡\n",
    "\n",
    "#特斯拉ModelY #中型SUV #强大性能 #续航能力 #智能科技 #自动驾驶技术\n",
    "```"
   ]
  },
  {
   "attachments": {},
   "cell_type": "markdown",
   "metadata": {},
   "source": [
    "### Step 4: 标签抽取\n",
    "基于Step 3生成的文案进行标签抽取，这里我们使用内置的**标签抽取**组件。"
   ]
  },
  {
   "cell_type": "code",
   "execution_count": null,
   "metadata": {},
   "outputs": [],
   "source": [
    "from appbuilder import TagExtraction\n",
    "\n",
    "# 初始化标签抽取组件\n",
    "tag_extraction = TagExtraction(model_name='ernie-bot-4')\n",
    "\n",
    "# 获取标签\n",
    "response = tag_extraction(Message(copywriting), stream=False, temperature=1e-10)\n",
    "tags = response.content\n",
    "print(f'标签：\\n{tags}')"
   ]
  },
  {
   "attachments": {},
   "cell_type": "markdown",
   "metadata": {},
   "source": [
    "输出结果：\n",
    "```\n",
    "标签：\n",
    "1.特斯拉Model Y\n",
    "2.中型SUV\n",
    "3.强大性能\n",
    "4.续航能力\n",
    "5.充电无忧\n",
    "6.多种选择\n",
    "7.个性十足\n",
    "8.智能科技\n",
    "9.自动驾驶\n",
    "10.时尚动感\n",
    "```"
   ]
  }
 ],
 "metadata": {
  "kernelspec": {
   "display_name": "app_builder",
   "language": "python",
   "name": "python3"
  },
  "language_info": {
   "codemirror_mode": {
    "name": "ipython",
    "version": 3
   },
   "file_extension": ".py",
   "mimetype": "text/x-python",
   "name": "python",
   "nbconvert_exporter": "python",
   "pygments_lexer": "ipython3",
   "version": "3.12.0"
  },
  "orig_nbformat": 4,
  "vscode": {
   "interpreter": {
    "hash": "3ea29d2c9bc29660a96e21d68e90893ce27f5259be7cb8ecc9dc567c1e0428e8"
   }
  }
 },
 "nbformat": 4,
 "nbformat_minor": 2
}
